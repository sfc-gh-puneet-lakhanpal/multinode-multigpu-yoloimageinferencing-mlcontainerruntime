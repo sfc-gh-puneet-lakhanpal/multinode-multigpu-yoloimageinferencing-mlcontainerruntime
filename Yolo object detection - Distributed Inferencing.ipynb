{
 "metadata": {
  "kernelspec": {
   "display_name": "Streamlit Notebook",
   "name": "streamlit"
  },
  "lastEditStatus": {
   "notebookId": "vgig7oewcqafunssd5yv",
   "authorId": "233194668061",
   "authorName": "PLAKHANPAL",
   "authorEmail": "Puneet.Lakhanpal@Snowflake.com",
   "sessionId": "9479a6f8-6c54-418f-9e22-0d0f04e08fac",
   "lastEditTime": 1743665994583
  }
 },
 "nbformat_minor": 5,
 "nbformat": 4,
 "cells": [
  {
   "cell_type": "markdown",
   "id": "0d9736dc-2c27-4e68-bdae-ebb724531507",
   "metadata": {
    "collapsed": false,
    "name": "intro"
   },
   "source": [
    "# Distributed Multi-Node, Multi-GPU Yolo image inferencing in ML Container Runtime"
   ]
  },
  {
   "cell_type": "code",
   "execution_count": null,
   "id": "3775908f-ca36-4846-8f38-5adca39217f2",
   "metadata": {
    "language": "python",
    "name": "import_libs"
   },
   "outputs": [],
   "source": [
    "# Import python packages\n",
    "import streamlit as st\n",
    "import pandas as pd\n",
    "import torch\n",
    "# We can also use Snowpark for our analyses!\n",
    "from typing import Dict\n",
    "from pathlib import Path\n",
    "import numpy as np\n",
    "import shutil\n",
    "from snowflake.snowpark.context import get_active_session\n",
    "from snowflake.ml.ray.datasource import SFStageImageDataSource\n",
    "from snowflake.ml.runtime_cluster import scale_cluster, get_nodes\n",
    "from snowflake.ml.ray.datasink import SnowflakeTableDatasink\n",
    "import ray\n",
    "import subprocess\n",
    "import logging\n",
    "session = get_active_session()"
   ]
  },
  {
   "cell_type": "code",
   "id": "698d568a-8164-435b-957d-f977cbecf622",
   "metadata": {
    "language": "python",
    "name": "initialize_ray",
    "codeCollapsed": false
   },
   "outputs": [],
   "source": "try:\n    ray.shutdown()\nexcept:\n    pass\nruntime_env = {\"pip\": [\"ultralytics\"]}\nray.init(ignore_reinit_error=False, runtime_env=runtime_env)\nnum_nodes = len([node for node in ray.nodes() if node[\"Alive\"]==True])\nprint(num_nodes)",
   "execution_count": null
  },
  {
   "cell_type": "markdown",
   "id": "ac3fbbd9-4169-410e-b787-829e7c096aff",
   "metadata": {
    "name": "intro_set_params",
    "collapsed": false
   },
   "source": "### Set params"
  },
  {
   "cell_type": "code",
   "id": "e9ce99eb-00da-4fdd-8728-fe930dca5137",
   "metadata": {
    "language": "python",
    "name": "set_params"
   },
   "outputs": [],
   "source": "batch_size = 32\nnum_nodes = 5",
   "execution_count": null
  },
  {
   "cell_type": "markdown",
   "id": "a55da4f5-449a-4c69-9ef0-3a5f70421e17",
   "metadata": {
    "collapsed": false,
    "name": "intro_scale"
   },
   "source": "### Scale to 5 nodes"
  },
  {
   "cell_type": "code",
   "execution_count": null,
   "id": "efebb414-e8f2-46ee-adda-173da0ced783",
   "metadata": {
    "codeCollapsed": false,
    "language": "python",
    "name": "scale_to_5_nodes"
   },
   "outputs": [],
   "source": "scale_cluster('\"Yolo object detection - Distributed Inferencing\"', num_nodes)"
  },
  {
   "cell_type": "markdown",
   "id": "c66019ea-840e-490b-bc91-30112590595f",
   "metadata": {
    "collapsed": false,
    "name": "intro_control_ray_logging"
   },
   "source": [
    "### Control ray logging"
   ]
  },
  {
   "cell_type": "code",
   "execution_count": null,
   "id": "fa5778d7-1e10-4831-9757-1410fdc7a383",
   "metadata": {
    "language": "python",
    "name": "control_ray_logging"
   },
   "outputs": [],
   "source": [
    "def configure_ray_logger() -> None:\n",
    "    #Configure Ray logging\n",
    "    ray_logger = logging.getLogger(\"ray\")\n",
    "    ray_logger.setLevel(logging.CRITICAL)\n",
    "\n",
    "    data_logger = logging.getLogger(\"ray.data\")\n",
    "    data_logger.setLevel(logging.CRITICAL)\n",
    "\n",
    "    #Configure root logger\n",
    "    logger = logging.getLogger()\n",
    "    logger.setLevel(logging.CRITICAL)\n",
    "\n",
    "    #Configure Ray's data context\n",
    "    context = ray.data.DataContext.get_current()\n",
    "    context.execution_options.verbose_progress = False\n",
    "    context.enable_operator_progress_bars = False\n",
    "\n",
    "configure_ray_logger()"
   ]
  },
  {
   "cell_type": "markdown",
   "id": "ef678408-c09d-46af-a481-39dd9d8025d6",
   "metadata": {
    "name": "intro_print_resources_in_ray_cluster",
    "collapsed": false
   },
   "source": "### Print resources in Ray cluster"
  },
  {
   "cell_type": "code",
   "execution_count": null,
   "id": "9abca883-cf62-4603-ad55-3273b4c0806b",
   "metadata": {
    "codeCollapsed": false,
    "language": "python",
    "name": "print_gpus_in_ray_cluster"
   },
   "outputs": [],
   "source": [
    "print(int(ray.cluster_resources()['GPU']))"
   ]
  },
  {
   "cell_type": "code",
   "id": "6c1e40a7-178d-406c-803c-0f0265b01105",
   "metadata": {
    "language": "python",
    "name": "print_more_resources",
    "codeCollapsed": false
   },
   "outputs": [],
   "source": "import pprint\n\ndef _format_resources(resources):\n    \"\"\"Convert memory fields to GB and filter out internal node tags.\"\"\"\n    formatted = {}\n    for k, v in resources.items():\n        # Skip internal node identifiers\n        if k.startswith(\"node:\"):\n            continue\n        if k in {\"memory\", \"object_store_memory\"}:\n            formatted[k] = f\"{v / (1024 ** 3):.2f} GB\"\n        else:\n            formatted[k] = v\n    return formatted\n\ndef show_ray_cluster_resources():\n    \"\"\"Nicely formatted cluster-wide and node-level resource info from Ray.\"\"\"\n    print(\"Cluster Resources:\")\n    cluster = _format_resources(ray.cluster_resources())\n    pprint.pprint(cluster, sort_dicts=True, width=100)\n\n    print(\"\\n Node-Level Resources:\")\n    for node in ray.nodes():\n        print(f\"\\nNode: {node['NodeManagerAddress']}\")\n        node_resources = _format_resources(node[\"Resources\"])\n        pprint.pprint(node_resources, sort_dicts=True, width=100)",
   "execution_count": null
  },
  {
   "cell_type": "code",
   "id": "8abcfc20-8f5f-426e-9fb5-5a516eb89ab2",
   "metadata": {
    "language": "python",
    "name": "show_all_cluster_resources",
    "codeCollapsed": false
   },
   "outputs": [],
   "source": "show_ray_cluster_resources()",
   "execution_count": null
  },
  {
   "cell_type": "markdown",
   "id": "2aa4131d-43ae-4f47-8a7e-a01868664fa3",
   "metadata": {
    "name": "intro_see_trained_model",
    "collapsed": false
   },
   "source": "### See the trained YOLO model in snowflake stage"
  },
  {
   "cell_type": "code",
   "id": "59dfd1aa-115a-474b-96b0-542248cf8385",
   "metadata": {
    "language": "sql",
    "name": "see_trained_model_in_snowflake_stage"
   },
   "outputs": [],
   "source": "ls @MODELREGISTRYTOSPCSYOLO_INTERNALSTAGE/model/",
   "execution_count": null
  },
  {
   "cell_type": "markdown",
   "id": "416d5937-05b5-473a-b3b3-b58d3e5c998a",
   "metadata": {
    "collapsed": false,
    "name": "intro_see_image_files"
   },
   "source": "### See image files in snowflake stage"
  },
  {
   "cell_type": "code",
   "execution_count": null,
   "id": "938569bd-67ca-4657-b922-b126aef46f91",
   "metadata": {
    "codeCollapsed": false,
    "language": "sql",
    "name": "see_image_files_in_snowflake_stage"
   },
   "outputs": [],
   "source": "ls @MODELREGISTRYTOSPCSYOLO_INTERNALSTAGE/data/"
  },
  {
   "cell_type": "markdown",
   "id": "72806f2c-1d26-404d-b774-6f1c3c9952c9",
   "metadata": {
    "name": "intro_download_yolo_model_to_local",
    "collapsed": false
   },
   "source": "### Download Yolo trained model to local from snowflake stage"
  },
  {
   "cell_type": "code",
   "id": "06e86ae9-4b01-4d94-9435-059a6485c0f1",
   "metadata": {
    "language": "python",
    "name": "download_yolo_model_to_local"
   },
   "outputs": [],
   "source": "session.file.get(\"@modelregistrytospcsyolo_internalstage/model/best.pt\", \"/home/app/model/\")",
   "execution_count": null
  },
  {
   "cell_type": "markdown",
   "id": "c7e820fd-9d67-4d35-b1df-9a1a9d3e6249",
   "metadata": {
    "name": "intro_visualize_sample_test_image",
    "collapsed": false
   },
   "source": "### Visualize sample test image"
  },
  {
   "cell_type": "code",
   "id": "e356bc2e-0b0c-44a6-b7d9-1eeea701989a",
   "metadata": {
    "language": "python",
    "name": "download_single_file_to_node",
    "codeCollapsed": false
   },
   "outputs": [],
   "source": "session.file.get(\"@modelregistrytospcsyolo_internalstage/data/000001.jpg\", \"/home/app/data/\")",
   "execution_count": null
  },
  {
   "cell_type": "code",
   "id": "f92eb108-b7ec-4bfb-992a-e5583411f1b2",
   "metadata": {
    "language": "python",
    "name": "see_sample_image",
    "codeCollapsed": false
   },
   "outputs": [],
   "source": "st.image(\"/home/app/data/000001.jpg\", caption=\"Input\")",
   "execution_count": null
  },
  {
   "cell_type": "markdown",
   "id": "e398d5e5-0015-4a2f-930e-541f6cc44dec",
   "metadata": {
    "name": "intro_access_image_files",
    "collapsed": false
   },
   "source": "### Access image files in snowflake stage as ray dataset using Snowflake APIs"
  },
  {
   "cell_type": "code",
   "execution_count": null,
   "id": "0f5905b6-5665-4c25-a44f-747b3b86fd7f",
   "metadata": {
    "codeCollapsed": false,
    "language": "python",
    "name": "get_ray_dataset_using_snow_apis"
   },
   "outputs": [],
   "source": "image_source = SFStageImageDataSource(\n    stage_location = \"@MODELREGISTRYTOSPCSYOLO_INTERNALSTAGE/data/\",\n    database = session.get_current_database(),\n    schema = session.get_current_schema()\n)\n\n# Load image files into a ray dataset\nimage_dataset = ray.data.read_datasource(image_source)"
  },
  {
   "cell_type": "code",
   "id": "b49beb67-8a8f-40ef-8d59-89fd49925a28",
   "metadata": {
    "language": "python",
    "name": "see_schema",
    "codeCollapsed": false
   },
   "outputs": [],
   "source": "image_dataset.schema()",
   "execution_count": null
  },
  {
   "cell_type": "code",
   "id": "2d637370-ea68-468e-a133-3626f3be97da",
   "metadata": {
    "language": "python",
    "name": "count_of_image_files_in_snowflake_stage"
   },
   "outputs": [],
   "source": "image_dataset.count()",
   "execution_count": null
  },
  {
   "cell_type": "code",
   "execution_count": null,
   "id": "d7da5a52-bcd4-4109-8a33-00bd20c19504",
   "metadata": {
    "codeCollapsed": false,
    "language": "python",
    "name": "see_sample_image_files"
   },
   "outputs": [],
   "source": "image_dataset.show(1)"
  },
  {
   "cell_type": "markdown",
   "id": "af7d7e8a-68e5-4dfd-97d8-c0997e48fc67",
   "metadata": {
    "name": "intro_inferencing",
    "collapsed": false
   },
   "source": "### Inferencing with Yolo trained model"
  },
  {
   "cell_type": "code",
   "execution_count": null,
   "id": "4ae5462d-e0e4-4396-b383-1c7e1f7645b9",
   "metadata": {
    "codeCollapsed": false,
    "language": "python",
    "name": "install_ultralytics_head_node"
   },
   "outputs": [],
   "source": "! pip install ultralytics"
  },
  {
   "cell_type": "code",
   "id": "6a22ac12-1c2c-47b5-80e9-85b28aa5b999",
   "metadata": {
    "language": "python",
    "name": "import_yolo",
    "codeCollapsed": false
   },
   "outputs": [],
   "source": "from ultralytics import YOLO",
   "execution_count": null
  },
  {
   "cell_type": "markdown",
   "id": "12dcd965-ea6d-4850-9786-44c274495bd3",
   "metadata": {
    "collapsed": false,
    "name": "intro_get_model"
   },
   "source": "### Load Yolo trained model from local and put into Ray plasma store"
  },
  {
   "cell_type": "code",
   "id": "21ec8a65-e51e-44ba-998b-5cca2a274c47",
   "metadata": {
    "language": "python",
    "name": "add_to_plasma_store"
   },
   "outputs": [],
   "source": "model = YOLO(\"/home/app/model/best.pt\")\nmodel_ref = ray.put(model)",
   "execution_count": null
  },
  {
   "cell_type": "markdown",
   "id": "c19ddbbe-3cdc-4964-91ef-8c316dab899e",
   "metadata": {
    "collapsed": false,
    "name": "intro_distributed_inferencing"
   },
   "source": "### Distributed Object Detection with Ray on Snowflake ML Container Runtime"
  },
  {
   "cell_type": "code",
   "execution_count": null,
   "id": "027b9201-d3e2-492b-b525-b78335d57a4f",
   "metadata": {
    "language": "python",
    "name": "yolo_object_detection_class"
   },
   "outputs": [],
   "source": "import pandas as pd\nclass YoloObjectDetection:\n    def __init__(self, model_ref):\n        self.model = ray.get(model_ref)\n        self.model.to(\"cuda\")\n\n    def __call__(self, batch: pd.DataFrame) -> pd.DataFrame:\n        images = batch['image'].tolist()\n        results = self.model(images, stream=True, device='cuda')\n        json_results = []\n        for result in results:\n            js = result.to_json()\n            json_results.append(js)\n        batch['result'] = json_results\n        return batch"
  },
  {
   "cell_type": "code",
   "execution_count": null,
   "id": "c2b1dec8-2eec-4874-93b2-7771b973f0f4",
   "metadata": {
    "codeCollapsed": false,
    "language": "python",
    "name": "map_batches_of_image_files"
   },
   "outputs": [],
   "source": "detections_ds = image_dataset.map_batches(YoloObjectDetection,\n        batch_size=batch_size,\n        batch_format='pandas',\n        concurrency=5,\n        num_gpus=1,\n        fn_constructor_kwargs={\"model_ref\": model_ref}\n).select_columns(['file_name', 'result'])"
  },
  {
   "cell_type": "code",
   "execution_count": null,
   "id": "dff09d59-99ab-4ca7-9d27-bb17133dcb59",
   "metadata": {
    "language": "sql",
    "name": "drop_results_table_if_exists",
    "codeCollapsed": false
   },
   "outputs": [],
   "source": "drop table if exists YOLO_OBJECT_DETECTION_DEMO_OUTPUT"
  },
  {
   "cell_type": "code",
   "execution_count": null,
   "id": "99b998b9-ea51-4536-9da2-9539f3615f4d",
   "metadata": {
    "language": "python",
    "name": "output_to_a_snowflake_table",
    "codeCollapsed": false
   },
   "outputs": [],
   "source": "datasink = SnowflakeTableDatasink(\n    table_name=\"YOLO_OBJECT_DETECTION_DEMO_OUTPUT\",\n    database=session.get_current_database(),\n    schema=session.get_current_schema(),\n    auto_create_table=True\n)"
  },
  {
   "cell_type": "code",
   "execution_count": null,
   "id": "e10e0495-e8aa-483e-8bff-d7797e099afa",
   "metadata": {
    "codeCollapsed": false,
    "language": "python",
    "name": "write_detections_to_snowflake"
   },
   "outputs": [],
   "source": "detections_ds.write_datasink(datasink)"
  },
  {
   "cell_type": "code",
   "execution_count": null,
   "id": "73cf7b38-3fb7-4dad-ad5f-2415f6eb5788",
   "metadata": {
    "codeCollapsed": false,
    "language": "python",
    "name": "see_results"
   },
   "outputs": [],
   "source": "results_snowdf = session.table(\"YOLO_OBJECT_DETECTION_DEMO_OUTPUT\")\nresults_snowdf.count()"
  },
  {
   "cell_type": "code",
   "id": "b2993909-23ba-4c02-aa04-da4de7463011",
   "metadata": {
    "language": "python",
    "name": "see_sample_input_file_again",
    "codeCollapsed": false
   },
   "outputs": [],
   "source": "st.image(\"/home/app/data/000001.jpg\", caption=\"Input\")",
   "execution_count": null
  },
  {
   "cell_type": "code",
   "id": "70886565-ddb3-4f73-9df8-5bbbcbe89771",
   "metadata": {
    "language": "python",
    "name": "see_resulting_snowpark_dataframe_schema",
    "codeCollapsed": false
   },
   "outputs": [],
   "source": "results_snowdf.print_schema()",
   "execution_count": null
  },
  {
   "cell_type": "code",
   "id": "9c8d3e8f-dcf5-46b3-84d9-eca98bc35755",
   "metadata": {
    "language": "python",
    "name": "see_output_in_snowflake_table",
    "codeCollapsed": false
   },
   "outputs": [],
   "source": "results_snowdf.filter(results_snowdf['\"file_name\"'] == 'data/000001.jpg').show()",
   "execution_count": null
  }
 ]
}