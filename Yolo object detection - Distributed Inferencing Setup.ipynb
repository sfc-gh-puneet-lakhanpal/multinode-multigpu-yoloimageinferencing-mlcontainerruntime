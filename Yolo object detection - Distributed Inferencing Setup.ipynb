{
 "metadata": {
  "kernelspec": {
   "display_name": "Streamlit Notebook",
   "name": "streamlit"
  },
  "lastEditStatus": {
   "notebookId": "amq7vi2uujzyy565q7ns",
   "authorId": "233194668061",
   "authorName": "PLAKHANPAL",
   "authorEmail": "Puneet.Lakhanpal@Snowflake.com",
   "sessionId": "c5b7f345-08f0-49fe-af42-4a4b68bd4d1b",
   "lastEditTime": 1743664916145
  }
 },
 "nbformat_minor": 5,
 "nbformat": 4,
 "cells": [
  {
   "cell_type": "markdown",
   "id": "559e4b8e-8400-4774-aa61-763a0f93e3cd",
   "metadata": {
    "collapsed": false,
    "name": "intro_setup"
   },
   "source": "### Setup Ultralytics and put image data in snowflake stage"
  },
  {
   "cell_type": "code",
   "execution_count": null,
   "id": "3775908f-ca36-4846-8f38-5adca39217f2",
   "metadata": {
    "language": "python",
    "name": "import_libs"
   },
   "outputs": [],
   "source": "# Import python packages\nimport streamlit as st\nimport pandas as pd\nimport shutil\n# We can also use Snowpark for our analyses!\nfrom snowflake.snowpark.context import get_active_session\nsession = get_active_session()"
  },
  {
   "cell_type": "code",
   "id": "e8a89d27-e1c1-4f1a-b1df-aea704f9f595",
   "metadata": {
    "language": "python",
    "name": "install_ultralytics",
    "codeCollapsed": false
   },
   "outputs": [],
   "source": "! pip install ultralytics",
   "execution_count": null
  },
  {
   "cell_type": "code",
   "id": "b0e5702d-af6a-4f1a-a5fd-2f461fa13170",
   "metadata": {
    "language": "python",
    "name": "import_yolo",
    "codeCollapsed": false
   },
   "outputs": [],
   "source": "from ultralytics import YOLO",
   "execution_count": null
  },
  {
   "cell_type": "code",
   "id": "b894c5e3-0f11-44bd-938e-ca13cbb3d553",
   "metadata": {
    "language": "python",
    "name": "setup_dirs_for_yolo_runs",
    "codeCollapsed": false
   },
   "outputs": [],
   "source": "try:\n    shutil.rmtree('/home/app/yoloruns')\nexcept:\n    pass",
   "execution_count": null
  },
  {
   "cell_type": "code",
   "id": "10d9d0ee-3113-4083-b03f-88d3e170be89",
   "metadata": {
    "language": "python",
    "name": "set_yolo_settings",
    "codeCollapsed": false
   },
   "outputs": [],
   "source": "!mkdir -p /home/app/yoloruns\n!yolo settings runs_dir=/home/app/yoloruns",
   "execution_count": null
  },
  {
   "cell_type": "code",
   "id": "08bc88de-b906-4bf4-9495-64ab06f14951",
   "metadata": {
    "language": "python",
    "name": "start_training",
    "codeCollapsed": false
   },
   "outputs": [],
   "source": "# Train yolo11n on VOC for 2 epochs\n!yolo train model=yolo11n.pt data=VOC.yaml epochs=2 imgsz=640 batch=32 device=0",
   "execution_count": null
  },
  {
   "cell_type": "code",
   "id": "1abd022d-104d-4ef1-a4f4-2ab13986edf0",
   "metadata": {
    "language": "python",
    "name": "run_validation",
    "codeCollapsed": false
   },
   "outputs": [],
   "source": "!yolo val model=/home/app/yoloruns/detect/train/weights/best.pt data=VOC.yaml",
   "execution_count": null
  },
  {
   "cell_type": "code",
   "execution_count": null,
   "id": "c695373e-ac74-4b62-a1f1-08206cbd5c81",
   "metadata": {
    "codeCollapsed": false,
    "language": "sql",
    "name": "create_snowflake_Stage"
   },
   "outputs": [],
   "source": "create stage if not exists MODELREGISTRYTOSPCSYOLO_INTERNALSTAGE ENCRYPTION = (TYPE = 'SNOWFLAKE_SSE') DIRECTORY = (ENABLE = TRUE);"
  },
  {
   "cell_type": "code",
   "id": "f7aa09bd-e40b-4420-99bf-bdb488931b42",
   "metadata": {
    "language": "python",
    "name": "see_the_best_model_weights_on_local"
   },
   "outputs": [],
   "source": "!ls /home/app/yoloruns/detect/train/weights/",
   "execution_count": null
  },
  {
   "cell_type": "code",
   "id": "e01a8d1f-2e09-4f48-88fe-a7406f160f6e",
   "metadata": {
    "language": "python",
    "name": "write_model_to_stage",
    "codeCollapsed": false
   },
   "outputs": [],
   "source": "session.file.put(\"/home/app/yoloruns/detect/train/weights/best.pt\", \"@MODELREGISTRYTOSPCSYOLO_INTERNALSTAGE/model/\", auto_compress=False, overwrite=True, parallel=99)",
   "execution_count": null
  },
  {
   "cell_type": "code",
   "id": "efe7a30c-a4b9-46ef-9129-d105cba7e7c3",
   "metadata": {
    "language": "sql",
    "name": "see_model_in_stage",
    "codeCollapsed": false
   },
   "outputs": [],
   "source": "ls @MODELREGISTRYTOSPCSYOLO_INTERNALSTAGE/model/",
   "execution_count": null
  },
  {
   "cell_type": "code",
   "execution_count": null,
   "id": "3097c3ca-5351-43c6-8b8e-22169ad726fb",
   "metadata": {
    "codeCollapsed": false,
    "language": "python",
    "name": "write_test_data_to_stage"
   },
   "outputs": [],
   "source": "session.file.put(f\"/home/app/datasets/VOC/images/test2007/*.jpg\", \"@MODELREGISTRYTOSPCSYOLO_INTERNALSTAGE/data/\", auto_compress=False, overwrite=True, parallel=99)"
  },
  {
   "cell_type": "code",
   "execution_count": null,
   "id": "f8625501-9fcf-47c9-914b-2a80f3ee6494",
   "metadata": {
    "codeCollapsed": false,
    "language": "sql",
    "name": "see_image_files_in_stage"
   },
   "outputs": [],
   "source": "ls @MODELREGISTRYTOSPCSYOLO_INTERNALSTAGE/data/"
  }
 ]
}